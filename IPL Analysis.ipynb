{
 "cells": [
  {
   "cell_type": "code",
   "execution_count": 1,
   "id": "11dac474-7b71-4ce8-8c21-9d0301cb1378",
   "metadata": {},
   "outputs": [],
   "source": [
    "import pandas as pd\n",
    "import numpy as np"
   ]
  },
  {
   "cell_type": "code",
   "execution_count": 2,
   "id": "1c996b45-938f-4b2e-a173-8a7b62c3fc92",
   "metadata": {},
   "outputs": [
    {
     "data": {
      "text/html": [
       "<div>\n",
       "<style scoped>\n",
       "    .dataframe tbody tr th:only-of-type {\n",
       "        vertical-align: middle;\n",
       "    }\n",
       "\n",
       "    .dataframe tbody tr th {\n",
       "        vertical-align: top;\n",
       "    }\n",
       "\n",
       "    .dataframe thead th {\n",
       "        text-align: right;\n",
       "    }\n",
       "</style>\n",
       "<table border=\"1\" class=\"dataframe\">\n",
       "  <thead>\n",
       "    <tr style=\"text-align: right;\">\n",
       "      <th></th>\n",
       "      <th>id</th>\n",
       "      <th>season</th>\n",
       "      <th>city</th>\n",
       "      <th>date</th>\n",
       "      <th>team1</th>\n",
       "      <th>team2</th>\n",
       "      <th>toss_winner</th>\n",
       "      <th>toss_decision</th>\n",
       "      <th>result</th>\n",
       "      <th>dl_applied</th>\n",
       "      <th>winner</th>\n",
       "      <th>win_by_runs</th>\n",
       "      <th>win_by_wickets</th>\n",
       "      <th>player_of_match</th>\n",
       "      <th>venue</th>\n",
       "      <th>umpire1</th>\n",
       "      <th>umpire2</th>\n",
       "      <th>umpire3</th>\n",
       "    </tr>\n",
       "  </thead>\n",
       "  <tbody>\n",
       "    <tr>\n",
       "      <th>0</th>\n",
       "      <td>1</td>\n",
       "      <td>2017</td>\n",
       "      <td>Hyderabad</td>\n",
       "      <td>2017-04-05</td>\n",
       "      <td>Sunrisers Hyderabad</td>\n",
       "      <td>Royal Challengers Bangalore</td>\n",
       "      <td>Royal Challengers Bangalore</td>\n",
       "      <td>field</td>\n",
       "      <td>normal</td>\n",
       "      <td>0</td>\n",
       "      <td>Sunrisers Hyderabad</td>\n",
       "      <td>35</td>\n",
       "      <td>0</td>\n",
       "      <td>Yuvraj Singh</td>\n",
       "      <td>Rajiv Gandhi International Stadium, Uppal</td>\n",
       "      <td>AY Dandekar</td>\n",
       "      <td>NJ Llong</td>\n",
       "      <td>NaN</td>\n",
       "    </tr>\n",
       "    <tr>\n",
       "      <th>1</th>\n",
       "      <td>2</td>\n",
       "      <td>2017</td>\n",
       "      <td>Pune</td>\n",
       "      <td>2017-04-06</td>\n",
       "      <td>Mumbai Indians</td>\n",
       "      <td>Rising Pune Supergiant</td>\n",
       "      <td>Rising Pune Supergiant</td>\n",
       "      <td>field</td>\n",
       "      <td>normal</td>\n",
       "      <td>0</td>\n",
       "      <td>Rising Pune Supergiant</td>\n",
       "      <td>0</td>\n",
       "      <td>7</td>\n",
       "      <td>SPD Smith</td>\n",
       "      <td>Maharashtra Cricket Association Stadium</td>\n",
       "      <td>A Nand Kishore</td>\n",
       "      <td>S Ravi</td>\n",
       "      <td>NaN</td>\n",
       "    </tr>\n",
       "    <tr>\n",
       "      <th>2</th>\n",
       "      <td>3</td>\n",
       "      <td>2017</td>\n",
       "      <td>Rajkot</td>\n",
       "      <td>2017-04-07</td>\n",
       "      <td>Gujarat Lions</td>\n",
       "      <td>Kolkata Knight Riders</td>\n",
       "      <td>Kolkata Knight Riders</td>\n",
       "      <td>field</td>\n",
       "      <td>normal</td>\n",
       "      <td>0</td>\n",
       "      <td>Kolkata Knight Riders</td>\n",
       "      <td>0</td>\n",
       "      <td>10</td>\n",
       "      <td>CA Lynn</td>\n",
       "      <td>Saurashtra Cricket Association Stadium</td>\n",
       "      <td>Nitin Menon</td>\n",
       "      <td>CK Nandan</td>\n",
       "      <td>NaN</td>\n",
       "    </tr>\n",
       "    <tr>\n",
       "      <th>3</th>\n",
       "      <td>4</td>\n",
       "      <td>2017</td>\n",
       "      <td>Indore</td>\n",
       "      <td>2017-04-08</td>\n",
       "      <td>Rising Pune Supergiant</td>\n",
       "      <td>Kings XI Punjab</td>\n",
       "      <td>Kings XI Punjab</td>\n",
       "      <td>field</td>\n",
       "      <td>normal</td>\n",
       "      <td>0</td>\n",
       "      <td>Kings XI Punjab</td>\n",
       "      <td>0</td>\n",
       "      <td>6</td>\n",
       "      <td>GJ Maxwell</td>\n",
       "      <td>Holkar Cricket Stadium</td>\n",
       "      <td>AK Chaudhary</td>\n",
       "      <td>C Shamshuddin</td>\n",
       "      <td>NaN</td>\n",
       "    </tr>\n",
       "  </tbody>\n",
       "</table>\n",
       "</div>"
      ],
      "text/plain": [
       "   id  season       city        date                   team1  \\\n",
       "0   1    2017  Hyderabad  2017-04-05     Sunrisers Hyderabad   \n",
       "1   2    2017       Pune  2017-04-06          Mumbai Indians   \n",
       "2   3    2017     Rajkot  2017-04-07           Gujarat Lions   \n",
       "3   4    2017     Indore  2017-04-08  Rising Pune Supergiant   \n",
       "\n",
       "                         team2                  toss_winner toss_decision  \\\n",
       "0  Royal Challengers Bangalore  Royal Challengers Bangalore         field   \n",
       "1       Rising Pune Supergiant       Rising Pune Supergiant         field   \n",
       "2        Kolkata Knight Riders        Kolkata Knight Riders         field   \n",
       "3              Kings XI Punjab              Kings XI Punjab         field   \n",
       "\n",
       "   result  dl_applied                  winner  win_by_runs  win_by_wickets  \\\n",
       "0  normal           0     Sunrisers Hyderabad           35               0   \n",
       "1  normal           0  Rising Pune Supergiant            0               7   \n",
       "2  normal           0   Kolkata Knight Riders            0              10   \n",
       "3  normal           0         Kings XI Punjab            0               6   \n",
       "\n",
       "  player_of_match                                      venue         umpire1  \\\n",
       "0    Yuvraj Singh  Rajiv Gandhi International Stadium, Uppal     AY Dandekar   \n",
       "1       SPD Smith    Maharashtra Cricket Association Stadium  A Nand Kishore   \n",
       "2         CA Lynn     Saurashtra Cricket Association Stadium     Nitin Menon   \n",
       "3      GJ Maxwell                     Holkar Cricket Stadium    AK Chaudhary   \n",
       "\n",
       "         umpire2  umpire3  \n",
       "0       NJ Llong      NaN  \n",
       "1         S Ravi      NaN  \n",
       "2      CK Nandan      NaN  \n",
       "3  C Shamshuddin      NaN  "
      ]
     },
     "execution_count": 2,
     "metadata": {},
     "output_type": "execute_result"
    }
   ],
   "source": [
    "df_matches = pd.read_csv(\"matches.csv\")\n",
    "df_matches.head(4)"
   ]
  },
  {
   "cell_type": "markdown",
   "id": "56d59eca-c176-4b02-87c6-01586e576c1c",
   "metadata": {},
   "source": [
    "How many matches we've got in the dataset?"
   ]
  },
  {
   "cell_type": "code",
   "execution_count": 3,
   "id": "8e95eea2-0aee-4f21-8f04-caf4efdd8586",
   "metadata": {},
   "outputs": [
    {
     "data": {
      "text/plain": [
       "636"
      ]
     },
     "execution_count": 3,
     "metadata": {},
     "output_type": "execute_result"
    }
   ],
   "source": [
    "df_matches.id.count()"
   ]
  },
  {
   "cell_type": "markdown",
   "id": "6d1c5cbe-b84e-49b6-b620-2d1970a7a63f",
   "metadata": {},
   "source": [
    "How many seasons we've got in the dataset?"
   ]
  },
  {
   "cell_type": "code",
   "execution_count": 4,
   "id": "edd16a95-e358-449f-a38f-d57a6d58a12a",
   "metadata": {},
   "outputs": [
    {
     "data": {
      "text/plain": [
       "array([2017, 2008, 2009, 2010, 2011, 2012, 2013, 2014, 2015, 2016],\n",
       "      dtype=int64)"
      ]
     },
     "execution_count": 4,
     "metadata": {},
     "output_type": "execute_result"
    }
   ],
   "source": [
    "df_matches.season.unique()"
   ]
  },
  {
   "cell_type": "code",
   "execution_count": 5,
   "id": "d5db2991-5eb0-4287-9929-ceb2d67a1c9e",
   "metadata": {},
   "outputs": [
    {
     "data": {
      "text/plain": [
       "10"
      ]
     },
     "execution_count": 5,
     "metadata": {},
     "output_type": "execute_result"
    }
   ],
   "source": [
    "len(df_matches.season.unique())"
   ]
  },
  {
   "cell_type": "markdown",
   "id": "563525af-8306-40f0-8683-583b5eda9bc8",
   "metadata": {},
   "source": [
    "Which Team had won by maximum runs?"
   ]
  },
  {
   "cell_type": "code",
   "execution_count": 6,
   "id": "d09dc316-0245-482b-bc49-ae47379597c6",
   "metadata": {},
   "outputs": [],
   "source": [
    "max_runs = df_matches.win_by_runs.max()"
   ]
  },
  {
   "cell_type": "code",
   "execution_count": 7,
   "id": "e75e5cd8-622d-45e5-864a-cd337921a669",
   "metadata": {},
   "outputs": [
    {
     "data": {
      "text/html": [
       "<div>\n",
       "<style scoped>\n",
       "    .dataframe tbody tr th:only-of-type {\n",
       "        vertical-align: middle;\n",
       "    }\n",
       "\n",
       "    .dataframe tbody tr th {\n",
       "        vertical-align: top;\n",
       "    }\n",
       "\n",
       "    .dataframe thead th {\n",
       "        text-align: right;\n",
       "    }\n",
       "</style>\n",
       "<table border=\"1\" class=\"dataframe\">\n",
       "  <thead>\n",
       "    <tr style=\"text-align: right;\">\n",
       "      <th></th>\n",
       "      <th>id</th>\n",
       "      <th>season</th>\n",
       "      <th>city</th>\n",
       "      <th>date</th>\n",
       "      <th>team1</th>\n",
       "      <th>team2</th>\n",
       "      <th>toss_winner</th>\n",
       "      <th>toss_decision</th>\n",
       "      <th>result</th>\n",
       "      <th>dl_applied</th>\n",
       "      <th>winner</th>\n",
       "      <th>win_by_runs</th>\n",
       "      <th>win_by_wickets</th>\n",
       "      <th>player_of_match</th>\n",
       "      <th>venue</th>\n",
       "      <th>umpire1</th>\n",
       "      <th>umpire2</th>\n",
       "      <th>umpire3</th>\n",
       "    </tr>\n",
       "  </thead>\n",
       "  <tbody>\n",
       "    <tr>\n",
       "      <th>43</th>\n",
       "      <td>44</td>\n",
       "      <td>2017</td>\n",
       "      <td>Delhi</td>\n",
       "      <td>2017-05-06</td>\n",
       "      <td>Mumbai Indians</td>\n",
       "      <td>Delhi Daredevils</td>\n",
       "      <td>Delhi Daredevils</td>\n",
       "      <td>field</td>\n",
       "      <td>normal</td>\n",
       "      <td>0</td>\n",
       "      <td>Mumbai Indians</td>\n",
       "      <td>146</td>\n",
       "      <td>0</td>\n",
       "      <td>LMP Simmons</td>\n",
       "      <td>Feroz Shah Kotla</td>\n",
       "      <td>Nitin Menon</td>\n",
       "      <td>CK Nandan</td>\n",
       "      <td>NaN</td>\n",
       "    </tr>\n",
       "  </tbody>\n",
       "</table>\n",
       "</div>"
      ],
      "text/plain": [
       "    id  season   city        date           team1             team2  \\\n",
       "43  44    2017  Delhi  2017-05-06  Mumbai Indians  Delhi Daredevils   \n",
       "\n",
       "         toss_winner toss_decision  result  dl_applied          winner  \\\n",
       "43  Delhi Daredevils         field  normal           0  Mumbai Indians   \n",
       "\n",
       "    win_by_runs  win_by_wickets player_of_match             venue  \\\n",
       "43          146               0     LMP Simmons  Feroz Shah Kotla   \n",
       "\n",
       "        umpire1    umpire2  umpire3  \n",
       "43  Nitin Menon  CK Nandan      NaN  "
      ]
     },
     "execution_count": 7,
     "metadata": {},
     "output_type": "execute_result"
    }
   ],
   "source": [
    "df_matches[df_matches.win_by_runs == max_runs]"
   ]
  },
  {
   "cell_type": "markdown",
   "id": "c489fa7d-8ae4-43c8-aadd-68164b8a064d",
   "metadata": {},
   "source": [
    "Which Team had won by maximum wickets?"
   ]
  },
  {
   "cell_type": "code",
   "execution_count": 8,
   "id": "b6a58c1e-aaa8-4fe0-9258-5b3a45c8fed8",
   "metadata": {},
   "outputs": [],
   "source": [
    "max_wickets = df_matches.win_by_wickets.max()"
   ]
  },
  {
   "cell_type": "code",
   "execution_count": 9,
   "id": "5a650a4b-0930-4f77-a287-bc4a9c354c38",
   "metadata": {},
   "outputs": [
    {
     "data": {
      "text/plain": [
       "10"
      ]
     },
     "execution_count": 9,
     "metadata": {},
     "output_type": "execute_result"
    }
   ],
   "source": [
    "max_wickets"
   ]
  },
  {
   "cell_type": "code",
   "execution_count": 10,
   "id": "fbf20437-bf6c-4da5-a1d7-8201eebc2999",
   "metadata": {},
   "outputs": [
    {
     "data": {
      "text/html": [
       "<div>\n",
       "<style scoped>\n",
       "    .dataframe tbody tr th:only-of-type {\n",
       "        vertical-align: middle;\n",
       "    }\n",
       "\n",
       "    .dataframe tbody tr th {\n",
       "        vertical-align: top;\n",
       "    }\n",
       "\n",
       "    .dataframe thead th {\n",
       "        text-align: right;\n",
       "    }\n",
       "</style>\n",
       "<table border=\"1\" class=\"dataframe\">\n",
       "  <thead>\n",
       "    <tr style=\"text-align: right;\">\n",
       "      <th></th>\n",
       "      <th>id</th>\n",
       "      <th>season</th>\n",
       "      <th>city</th>\n",
       "      <th>date</th>\n",
       "      <th>team1</th>\n",
       "      <th>team2</th>\n",
       "      <th>toss_winner</th>\n",
       "      <th>toss_decision</th>\n",
       "      <th>result</th>\n",
       "      <th>dl_applied</th>\n",
       "      <th>winner</th>\n",
       "      <th>win_by_runs</th>\n",
       "      <th>win_by_wickets</th>\n",
       "      <th>player_of_match</th>\n",
       "      <th>venue</th>\n",
       "      <th>umpire1</th>\n",
       "      <th>umpire2</th>\n",
       "      <th>umpire3</th>\n",
       "    </tr>\n",
       "  </thead>\n",
       "  <tbody>\n",
       "    <tr>\n",
       "      <th>2</th>\n",
       "      <td>3</td>\n",
       "      <td>2017</td>\n",
       "      <td>Rajkot</td>\n",
       "      <td>2017-04-07</td>\n",
       "      <td>Gujarat Lions</td>\n",
       "      <td>Kolkata Knight Riders</td>\n",
       "      <td>Kolkata Knight Riders</td>\n",
       "      <td>field</td>\n",
       "      <td>normal</td>\n",
       "      <td>0</td>\n",
       "      <td>Kolkata Knight Riders</td>\n",
       "      <td>0</td>\n",
       "      <td>10</td>\n",
       "      <td>CA Lynn</td>\n",
       "      <td>Saurashtra Cricket Association Stadium</td>\n",
       "      <td>Nitin Menon</td>\n",
       "      <td>CK Nandan</td>\n",
       "      <td>NaN</td>\n",
       "    </tr>\n",
       "  </tbody>\n",
       "</table>\n",
       "</div>"
      ],
      "text/plain": [
       "   id  season    city        date          team1                  team2  \\\n",
       "2   3    2017  Rajkot  2017-04-07  Gujarat Lions  Kolkata Knight Riders   \n",
       "\n",
       "             toss_winner toss_decision  result  dl_applied  \\\n",
       "2  Kolkata Knight Riders         field  normal           0   \n",
       "\n",
       "                  winner  win_by_runs  win_by_wickets player_of_match  \\\n",
       "2  Kolkata Knight Riders            0              10         CA Lynn   \n",
       "\n",
       "                                    venue      umpire1    umpire2  umpire3  \n",
       "2  Saurashtra Cricket Association Stadium  Nitin Menon  CK Nandan      NaN  "
      ]
     },
     "execution_count": 10,
     "metadata": {},
     "output_type": "execute_result"
    }
   ],
   "source": [
    "df_matches[df_matches.win_by_wickets == max_wickets].head(1)"
   ]
  },
  {
   "cell_type": "code",
   "execution_count": 11,
   "id": "d685841c-6a9e-4d36-af22-ac7d41d69112",
   "metadata": {},
   "outputs": [
    {
     "data": {
      "text/plain": [
       "2"
      ]
     },
     "execution_count": 11,
     "metadata": {},
     "output_type": "execute_result"
    }
   ],
   "source": [
    "df_matches.win_by_wickets.idxmax()"
   ]
  },
  {
   "cell_type": "code",
   "execution_count": 12,
   "id": "e882e6f5-d818-4b3c-856b-1df51dff5c75",
   "metadata": {},
   "outputs": [
    {
     "data": {
      "text/plain": [
       "id                                                      3\n",
       "season                                               2017\n",
       "city                                               Rajkot\n",
       "date                                           2017-04-07\n",
       "team1                                       Gujarat Lions\n",
       "team2                               Kolkata Knight Riders\n",
       "toss_winner                         Kolkata Knight Riders\n",
       "toss_decision                                       field\n",
       "result                                             normal\n",
       "dl_applied                                              0\n",
       "winner                              Kolkata Knight Riders\n",
       "win_by_runs                                             0\n",
       "win_by_wickets                                         10\n",
       "player_of_match                                   CA Lynn\n",
       "venue              Saurashtra Cricket Association Stadium\n",
       "umpire1                                       Nitin Menon\n",
       "umpire2                                         CK Nandan\n",
       "umpire3                                               NaN\n",
       "Name: 2, dtype: object"
      ]
     },
     "execution_count": 12,
     "metadata": {},
     "output_type": "execute_result"
    }
   ],
   "source": [
    "df_matches.iloc[df_matches.win_by_wickets.idxmax()]"
   ]
  },
  {
   "cell_type": "markdown",
   "id": "eb76ac5a-6a64-40ef-af81-ada319e74362",
   "metadata": {},
   "source": [
    "Which Team had won by (closest margin) minimum runs?"
   ]
  },
  {
   "cell_type": "code",
   "execution_count": 13,
   "id": "4c2e2347-c795-4ef9-b042-046adea8d114",
   "metadata": {},
   "outputs": [
    {
     "data": {
      "text/html": [
       "<div>\n",
       "<style scoped>\n",
       "    .dataframe tbody tr th:only-of-type {\n",
       "        vertical-align: middle;\n",
       "    }\n",
       "\n",
       "    .dataframe tbody tr th {\n",
       "        vertical-align: top;\n",
       "    }\n",
       "\n",
       "    .dataframe thead th {\n",
       "        text-align: right;\n",
       "    }\n",
       "</style>\n",
       "<table border=\"1\" class=\"dataframe\">\n",
       "  <thead>\n",
       "    <tr style=\"text-align: right;\">\n",
       "      <th></th>\n",
       "      <th>id</th>\n",
       "      <th>season</th>\n",
       "      <th>city</th>\n",
       "      <th>date</th>\n",
       "      <th>team1</th>\n",
       "      <th>team2</th>\n",
       "      <th>toss_winner</th>\n",
       "      <th>toss_decision</th>\n",
       "      <th>result</th>\n",
       "      <th>dl_applied</th>\n",
       "      <th>winner</th>\n",
       "      <th>win_by_runs</th>\n",
       "      <th>win_by_wickets</th>\n",
       "      <th>player_of_match</th>\n",
       "      <th>venue</th>\n",
       "      <th>umpire1</th>\n",
       "      <th>umpire2</th>\n",
       "      <th>umpire3</th>\n",
       "    </tr>\n",
       "  </thead>\n",
       "  <tbody>\n",
       "    <tr>\n",
       "      <th>58</th>\n",
       "      <td>59</td>\n",
       "      <td>2017</td>\n",
       "      <td>Hyderabad</td>\n",
       "      <td>2017-05-21</td>\n",
       "      <td>Mumbai Indians</td>\n",
       "      <td>Rising Pune Supergiant</td>\n",
       "      <td>Mumbai Indians</td>\n",
       "      <td>bat</td>\n",
       "      <td>normal</td>\n",
       "      <td>0</td>\n",
       "      <td>Mumbai Indians</td>\n",
       "      <td>1</td>\n",
       "      <td>0</td>\n",
       "      <td>KH Pandya</td>\n",
       "      <td>Rajiv Gandhi International Stadium, Uppal</td>\n",
       "      <td>NJ Llong</td>\n",
       "      <td>S Ravi</td>\n",
       "      <td>NaN</td>\n",
       "    </tr>\n",
       "    <tr>\n",
       "      <th>105</th>\n",
       "      <td>106</td>\n",
       "      <td>2008</td>\n",
       "      <td>Mumbai</td>\n",
       "      <td>2008-05-21</td>\n",
       "      <td>Kings XI Punjab</td>\n",
       "      <td>Mumbai Indians</td>\n",
       "      <td>Mumbai Indians</td>\n",
       "      <td>field</td>\n",
       "      <td>normal</td>\n",
       "      <td>0</td>\n",
       "      <td>Kings XI Punjab</td>\n",
       "      <td>1</td>\n",
       "      <td>0</td>\n",
       "      <td>SE Marsh</td>\n",
       "      <td>Wankhede Stadium</td>\n",
       "      <td>BF Bowden</td>\n",
       "      <td>GA Pratapkumar</td>\n",
       "      <td>NaN</td>\n",
       "    </tr>\n",
       "    <tr>\n",
       "      <th>163</th>\n",
       "      <td>164</td>\n",
       "      <td>2009</td>\n",
       "      <td>Johannesburg</td>\n",
       "      <td>2009-05-17</td>\n",
       "      <td>Kings XI Punjab</td>\n",
       "      <td>Deccan Chargers</td>\n",
       "      <td>Deccan Chargers</td>\n",
       "      <td>field</td>\n",
       "      <td>normal</td>\n",
       "      <td>0</td>\n",
       "      <td>Kings XI Punjab</td>\n",
       "      <td>1</td>\n",
       "      <td>0</td>\n",
       "      <td>Yuvraj Singh</td>\n",
       "      <td>New Wanderers Stadium</td>\n",
       "      <td>S Ravi</td>\n",
       "      <td>RB Tiffin</td>\n",
       "      <td>NaN</td>\n",
       "    </tr>\n",
       "    <tr>\n",
       "      <th>344</th>\n",
       "      <td>345</td>\n",
       "      <td>2012</td>\n",
       "      <td>Delhi</td>\n",
       "      <td>2012-04-29</td>\n",
       "      <td>Delhi Daredevils</td>\n",
       "      <td>Rajasthan Royals</td>\n",
       "      <td>Delhi Daredevils</td>\n",
       "      <td>bat</td>\n",
       "      <td>normal</td>\n",
       "      <td>0</td>\n",
       "      <td>Delhi Daredevils</td>\n",
       "      <td>1</td>\n",
       "      <td>0</td>\n",
       "      <td>V Sehwag</td>\n",
       "      <td>Feroz Shah Kotla</td>\n",
       "      <td>S Ravi</td>\n",
       "      <td>RJ Tucker</td>\n",
       "      <td>NaN</td>\n",
       "    </tr>\n",
       "    <tr>\n",
       "      <th>350</th>\n",
       "      <td>351</td>\n",
       "      <td>2012</td>\n",
       "      <td>Pune</td>\n",
       "      <td>2012-05-03</td>\n",
       "      <td>Mumbai Indians</td>\n",
       "      <td>Pune Warriors</td>\n",
       "      <td>Mumbai Indians</td>\n",
       "      <td>bat</td>\n",
       "      <td>normal</td>\n",
       "      <td>0</td>\n",
       "      <td>Mumbai Indians</td>\n",
       "      <td>1</td>\n",
       "      <td>0</td>\n",
       "      <td>SL Malinga</td>\n",
       "      <td>Subrata Roy Sahara Stadium</td>\n",
       "      <td>Asad Rauf</td>\n",
       "      <td>S Asnani</td>\n",
       "      <td>NaN</td>\n",
       "    </tr>\n",
       "    <tr>\n",
       "      <th>518</th>\n",
       "      <td>519</td>\n",
       "      <td>2015</td>\n",
       "      <td>Chennai</td>\n",
       "      <td>2015-04-09</td>\n",
       "      <td>Chennai Super Kings</td>\n",
       "      <td>Delhi Daredevils</td>\n",
       "      <td>Delhi Daredevils</td>\n",
       "      <td>field</td>\n",
       "      <td>normal</td>\n",
       "      <td>0</td>\n",
       "      <td>Chennai Super Kings</td>\n",
       "      <td>1</td>\n",
       "      <td>0</td>\n",
       "      <td>A Nehra</td>\n",
       "      <td>MA Chidambaram Stadium, Chepauk</td>\n",
       "      <td>RK Illingworth</td>\n",
       "      <td>VA Kulkarni</td>\n",
       "      <td>NaN</td>\n",
       "    </tr>\n",
       "    <tr>\n",
       "      <th>598</th>\n",
       "      <td>599</td>\n",
       "      <td>2016</td>\n",
       "      <td>Delhi</td>\n",
       "      <td>2016-04-27</td>\n",
       "      <td>Gujarat Lions</td>\n",
       "      <td>Delhi Daredevils</td>\n",
       "      <td>Delhi Daredevils</td>\n",
       "      <td>field</td>\n",
       "      <td>normal</td>\n",
       "      <td>0</td>\n",
       "      <td>Gujarat Lions</td>\n",
       "      <td>1</td>\n",
       "      <td>0</td>\n",
       "      <td>CH Morris</td>\n",
       "      <td>Feroz Shah Kotla</td>\n",
       "      <td>M Erasmus</td>\n",
       "      <td>S Ravi</td>\n",
       "      <td>NaN</td>\n",
       "    </tr>\n",
       "    <tr>\n",
       "      <th>614</th>\n",
       "      <td>615</td>\n",
       "      <td>2016</td>\n",
       "      <td>Chandigarh</td>\n",
       "      <td>2016-05-09</td>\n",
       "      <td>Royal Challengers Bangalore</td>\n",
       "      <td>Kings XI Punjab</td>\n",
       "      <td>Kings XI Punjab</td>\n",
       "      <td>field</td>\n",
       "      <td>normal</td>\n",
       "      <td>0</td>\n",
       "      <td>Royal Challengers Bangalore</td>\n",
       "      <td>1</td>\n",
       "      <td>0</td>\n",
       "      <td>SR Watson</td>\n",
       "      <td>Punjab Cricket Association IS Bindra Stadium, ...</td>\n",
       "      <td>AK Chaudhary</td>\n",
       "      <td>HDPK Dharmasena</td>\n",
       "      <td>NaN</td>\n",
       "    </tr>\n",
       "  </tbody>\n",
       "</table>\n",
       "</div>"
      ],
      "text/plain": [
       "      id  season          city        date                        team1  \\\n",
       "58    59    2017     Hyderabad  2017-05-21               Mumbai Indians   \n",
       "105  106    2008        Mumbai  2008-05-21              Kings XI Punjab   \n",
       "163  164    2009  Johannesburg  2009-05-17              Kings XI Punjab   \n",
       "344  345    2012         Delhi  2012-04-29             Delhi Daredevils   \n",
       "350  351    2012          Pune  2012-05-03               Mumbai Indians   \n",
       "518  519    2015       Chennai  2015-04-09          Chennai Super Kings   \n",
       "598  599    2016         Delhi  2016-04-27                Gujarat Lions   \n",
       "614  615    2016    Chandigarh  2016-05-09  Royal Challengers Bangalore   \n",
       "\n",
       "                      team2       toss_winner toss_decision  result  \\\n",
       "58   Rising Pune Supergiant    Mumbai Indians           bat  normal   \n",
       "105          Mumbai Indians    Mumbai Indians         field  normal   \n",
       "163         Deccan Chargers   Deccan Chargers         field  normal   \n",
       "344        Rajasthan Royals  Delhi Daredevils           bat  normal   \n",
       "350           Pune Warriors    Mumbai Indians           bat  normal   \n",
       "518        Delhi Daredevils  Delhi Daredevils         field  normal   \n",
       "598        Delhi Daredevils  Delhi Daredevils         field  normal   \n",
       "614         Kings XI Punjab   Kings XI Punjab         field  normal   \n",
       "\n",
       "     dl_applied                       winner  win_by_runs  win_by_wickets  \\\n",
       "58            0               Mumbai Indians            1               0   \n",
       "105           0              Kings XI Punjab            1               0   \n",
       "163           0              Kings XI Punjab            1               0   \n",
       "344           0             Delhi Daredevils            1               0   \n",
       "350           0               Mumbai Indians            1               0   \n",
       "518           0          Chennai Super Kings            1               0   \n",
       "598           0                Gujarat Lions            1               0   \n",
       "614           0  Royal Challengers Bangalore            1               0   \n",
       "\n",
       "    player_of_match                                              venue  \\\n",
       "58        KH Pandya          Rajiv Gandhi International Stadium, Uppal   \n",
       "105        SE Marsh                                   Wankhede Stadium   \n",
       "163    Yuvraj Singh                              New Wanderers Stadium   \n",
       "344        V Sehwag                                   Feroz Shah Kotla   \n",
       "350      SL Malinga                         Subrata Roy Sahara Stadium   \n",
       "518         A Nehra                    MA Chidambaram Stadium, Chepauk   \n",
       "598       CH Morris                                   Feroz Shah Kotla   \n",
       "614       SR Watson  Punjab Cricket Association IS Bindra Stadium, ...   \n",
       "\n",
       "            umpire1          umpire2  umpire3  \n",
       "58         NJ Llong           S Ravi      NaN  \n",
       "105       BF Bowden   GA Pratapkumar      NaN  \n",
       "163          S Ravi        RB Tiffin      NaN  \n",
       "344          S Ravi        RJ Tucker      NaN  \n",
       "350       Asad Rauf         S Asnani      NaN  \n",
       "518  RK Illingworth      VA Kulkarni      NaN  \n",
       "598       M Erasmus           S Ravi      NaN  \n",
       "614    AK Chaudhary  HDPK Dharmasena      NaN  "
      ]
     },
     "execution_count": 13,
     "metadata": {},
     "output_type": "execute_result"
    }
   ],
   "source": [
    "df_matches[df_matches.win_by_runs == 1]"
   ]
  },
  {
   "cell_type": "code",
   "execution_count": 14,
   "id": "71ade06b-8137-4ba3-9d92-c2cc4571f033",
   "metadata": {},
   "outputs": [
    {
     "data": {
      "text/plain": [
       "58                  Mumbai Indians\n",
       "105                Kings XI Punjab\n",
       "163                Kings XI Punjab\n",
       "344               Delhi Daredevils\n",
       "350                 Mumbai Indians\n",
       "518            Chennai Super Kings\n",
       "598                  Gujarat Lions\n",
       "614    Royal Challengers Bangalore\n",
       "Name: winner, dtype: object"
      ]
     },
     "execution_count": 14,
     "metadata": {},
     "output_type": "execute_result"
    }
   ],
   "source": [
    "df_matches.winner[df_matches.win_by_runs == 1]"
   ]
  },
  {
   "cell_type": "code",
   "execution_count": 15,
   "id": "53262d8b-60ee-40c3-b6a8-bcf2f6abce1b",
   "metadata": {},
   "outputs": [
    {
     "data": {
      "text/plain": [
       "id                                                       2\n",
       "season                                                2017\n",
       "city                                                  Pune\n",
       "date                                            2017-04-06\n",
       "team1                                       Mumbai Indians\n",
       "team2                               Rising Pune Supergiant\n",
       "toss_winner                         Rising Pune Supergiant\n",
       "toss_decision                                        field\n",
       "result                                              normal\n",
       "dl_applied                                               0\n",
       "winner                              Rising Pune Supergiant\n",
       "win_by_runs                                              0\n",
       "win_by_wickets                                           7\n",
       "player_of_match                                  SPD Smith\n",
       "venue              Maharashtra Cricket Association Stadium\n",
       "umpire1                                     A Nand Kishore\n",
       "umpire2                                             S Ravi\n",
       "umpire3                                                NaN\n",
       "Name: 1, dtype: object"
      ]
     },
     "execution_count": 15,
     "metadata": {},
     "output_type": "execute_result"
    }
   ],
   "source": [
    "df_matches.iloc[df_matches.win_by_runs.idxmin()]"
   ]
  },
  {
   "cell_type": "code",
   "execution_count": 16,
   "id": "81e68115-9109-4f3b-973c-728c7e839284",
   "metadata": {},
   "outputs": [
    {
     "data": {
      "text/plain": [
       "id                                                        59\n",
       "season                                                  2017\n",
       "city                                               Hyderabad\n",
       "date                                              2017-05-21\n",
       "team1                                         Mumbai Indians\n",
       "team2                                 Rising Pune Supergiant\n",
       "toss_winner                                   Mumbai Indians\n",
       "toss_decision                                            bat\n",
       "result                                                normal\n",
       "dl_applied                                                 0\n",
       "winner                                        Mumbai Indians\n",
       "win_by_runs                                                1\n",
       "win_by_wickets                                             0\n",
       "player_of_match                                    KH Pandya\n",
       "venue              Rajiv Gandhi International Stadium, Uppal\n",
       "umpire1                                             NJ Llong\n",
       "umpire2                                               S Ravi\n",
       "umpire3                                                  NaN\n",
       "Name: 58, dtype: object"
      ]
     },
     "execution_count": 16,
     "metadata": {},
     "output_type": "execute_result"
    }
   ],
   "source": [
    "df_matches.iloc[df_matches[df_matches.win_by_runs.ge(1)].win_by_runs.idxmin()]"
   ]
  },
  {
   "cell_type": "markdown",
   "id": "b38a8cab-2664-4557-a2e7-55e20ebb2b14",
   "metadata": {},
   "source": [
    "Which Team had won by minimum wickets?"
   ]
  },
  {
   "cell_type": "code",
   "execution_count": 17,
   "id": "d48add19-aee1-4fca-a21a-1db5963067db",
   "metadata": {},
   "outputs": [
    {
     "data": {
      "text/plain": [
       "0      False\n",
       "1       True\n",
       "2       True\n",
       "3       True\n",
       "4      False\n",
       "       ...  \n",
       "631     True\n",
       "632     True\n",
       "633    False\n",
       "634     True\n",
       "635    False\n",
       "Name: win_by_wickets, Length: 636, dtype: bool"
      ]
     },
     "execution_count": 17,
     "metadata": {},
     "output_type": "execute_result"
    }
   ],
   "source": [
    "df_matches.win_by_wickets.ge(1)"
   ]
  },
  {
   "cell_type": "code",
   "execution_count": 18,
   "id": "03c9ad1c-b16a-43e9-b0e5-8d99a516a355",
   "metadata": {},
   "outputs": [
    {
     "data": {
      "text/plain": [
       "id                                   560\n",
       "season                              2015\n",
       "city                             Kolkata\n",
       "date                          2015-05-09\n",
       "team1                    Kings XI Punjab\n",
       "team2              Kolkata Knight Riders\n",
       "toss_winner              Kings XI Punjab\n",
       "toss_decision                        bat\n",
       "result                            normal\n",
       "dl_applied                             0\n",
       "winner             Kolkata Knight Riders\n",
       "win_by_runs                            0\n",
       "win_by_wickets                         1\n",
       "player_of_match               AD Russell\n",
       "venue                       Eden Gardens\n",
       "umpire1                     AK Chaudhary\n",
       "umpire2                  HDPK Dharmasena\n",
       "umpire3                              NaN\n",
       "Name: 559, dtype: object"
      ]
     },
     "execution_count": 18,
     "metadata": {},
     "output_type": "execute_result"
    }
   ],
   "source": [
    "df_matches.iloc[df_matches[df_matches.win_by_wickets.ge(1)].win_by_wickets.idxmin()]"
   ]
  },
  {
   "cell_type": "markdown",
   "id": "84b1b251-0629-4348-807b-6d70919458b0",
   "metadata": {},
   "source": [
    "Which season had most number of matches?"
   ]
  },
  {
   "cell_type": "code",
   "execution_count": 19,
   "id": "c31a6b2e-66d4-41b3-abc2-a6291a4ec4a0",
   "metadata": {},
   "outputs": [],
   "source": [
    "g = df_matches.groupby(\"season\")"
   ]
  },
  {
   "cell_type": "code",
   "execution_count": 20,
   "id": "d6fd35ba-4f78-4186-9390-cea7d2899369",
   "metadata": {},
   "outputs": [
    {
     "name": "stdout",
     "output_type": "stream",
     "text": [
      "season 2008\n",
      "total 58\n",
      "season 2009\n",
      "total 57\n",
      "season 2010\n",
      "total 60\n",
      "season 2011\n",
      "total 73\n",
      "season 2012\n",
      "total 74\n",
      "season 2013\n",
      "total 76\n",
      "season 2014\n",
      "total 60\n",
      "season 2015\n",
      "total 59\n",
      "season 2016\n",
      "total 60\n",
      "season 2017\n",
      "total 59\n"
     ]
    }
   ],
   "source": [
    "for s,total in g:\n",
    "    print(\"season\", s)\n",
    "    print(\"total\",total.id.count())"
   ]
  },
  {
   "cell_type": "markdown",
   "id": "53da3c9d-ada0-4125-82e1-1ac40783c210",
   "metadata": {},
   "source": [
    "Which IPL Team is mostsuccessful?"
   ]
  },
  {
   "cell_type": "code",
   "execution_count": 21,
   "id": "d1356928-e614-4d3f-a40c-fa2d4be5c8e1",
   "metadata": {},
   "outputs": [
    {
     "data": {
      "text/plain": [
       "<Axes: xlabel='winner'>"
      ]
     },
     "execution_count": 21,
     "metadata": {},
     "output_type": "execute_result"
    },
    {
     "data": {
      "image/png": "[encoded data removed]",
      "text/plain": [
       "<Figure size 640x480 with 1 Axes>"
      ]
     },
     "metadata": {},
     "output_type": "display_data"
    }
   ],
   "source": [
    "df_matches.winner.value_counts().plot(kind = \"bar\")"
   ]
  },
  {
   "cell_type": "markdown",
   "id": "efd80eb2-f3dc-4f12-aef5-10c72f7f12c2",
   "metadata": {},
   "source": [
    "Top player of the match Winners"
   ]
  },
  {
   "cell_type": "code",
   "execution_count": 22,
   "id": "76af2e4a-f03a-489b-a647-1a3227aa956c",
   "metadata": {},
   "outputs": [
    {
     "data": {
      "text/plain": [
       "<Axes: ylabel='player_of_match'>"
      ]
     },
     "execution_count": 22,
     "metadata": {},
     "output_type": "execute_result"
    },
    {
     "data": {
      "image/png": "[encoded data removed]",
      "text/plain": [
       "<Figure size 640x480 with 1 Axes>"
      ]
     },
     "metadata": {},
     "output_type": "display_data"
    }
   ],
   "source": [
    "df_matches.player_of_match.value_counts().head(10).plot(kind = \"barh\")"
   ]
  },
  {
   "cell_type": "markdown",
   "id": "6d2a5681-f3b6-4484-9d9b-7c1398e9151f",
   "metadata": {},
   "source": [
    "Has Toss-winning helped in Match-winning?"
   ]
  },
  {
   "cell_type": "code",
   "execution_count": 23,
   "id": "05747447-95ed-4c52-9eda-597978b62609",
   "metadata": {},
   "outputs": [],
   "source": [
    "t = df_matches.toss_winner == df_matches.winner"
   ]
  },
  {
   "cell_type": "code",
   "execution_count": 24,
   "id": "e713048b-1773-4421-add7-97b97c3d7cba",
   "metadata": {},
   "outputs": [
    {
     "data": {
      "text/plain": [
       "False    311\n",
       "True     325\n",
       "dtype: int64"
      ]
     },
     "execution_count": 24,
     "metadata": {},
     "output_type": "execute_result"
    }
   ],
   "source": [
    "t.groupby(t).size()"
   ]
  },
  {
   "cell_type": "markdown",
   "id": "5837abd9-a29c-4614-86ff-cfd417687f9e",
   "metadata": {},
   "source": [
    "What's the percentage of it?"
   ]
  },
  {
   "cell_type": "code",
   "execution_count": 25,
   "id": "2935ce2c-7528-4fd7-8e9c-bb75e6421d44",
   "metadata": {},
   "outputs": [
    {
     "data": {
      "text/plain": [
       "False    48.899371\n",
       "True     51.100629\n",
       "dtype: float64"
      ]
     },
     "execution_count": 25,
     "metadata": {},
     "output_type": "execute_result"
    }
   ],
   "source": [
    "t.groupby(t).size()/t.count()*100"
   ]
  },
  {
   "cell_type": "markdown",
   "id": "1d226be4-179c-4c5d-8a7e-8128f6b447e2",
   "metadata": {},
   "source": [
    "Team Performance"
   ]
  },
  {
   "cell_type": "code",
   "execution_count": 52,
   "id": "651b5562-f549-47ed-84ae-ae63d29f9169",
   "metadata": {},
   "outputs": [],
   "source": [
    "j = df_matches[df_matches.win_by_runs>0].groupby(\"winner\")"
   ]
  },
  {
   "cell_type": "code",
   "execution_count": 66,
   "id": "baf169b6-5304-4612-bd02-2d781fdb37f9",
   "metadata": {},
   "outputs": [
    {
     "name": "stdout",
     "output_type": "stream",
     "text": [
      "winner Chennai Super Kings\n",
      "runs 24.0\n",
      "winner Deccan Chargers\n",
      "runs 14.5\n",
      "winner Delhi Daredevils\n",
      "runs 17.0\n",
      "winner Gujarat Lions\n",
      "runs 1.0\n",
      "winner Kings XI Punjab\n",
      "runs 22.5\n",
      "winner Kochi Tuskers Kerala\n",
      "runs 11.5\n",
      "winner Kolkata Knight Riders\n",
      "runs 23.0\n",
      "winner Mumbai Indians\n",
      "runs 25.0\n",
      "winner Pune Warriors\n",
      "runs 23.0\n",
      "winner Rajasthan Royals\n",
      "runs 31.0\n",
      "winner Rising Pune Supergiant\n",
      "runs 20.0\n",
      "winner Rising Pune Supergiants\n",
      "runs 26.5\n",
      "winner Royal Challengers Bangalore\n",
      "runs 22.5\n",
      "winner Sunrisers Hyderabad\n",
      "runs 16.0\n"
     ]
    }
   ],
   "source": [
    "for i,k in j:\n",
    "    print(\"winner\", i)\n",
    "    print(\"runs\", k.win_by_runs.median())"
   ]
  },
  {
   "cell_type": "code",
   "execution_count": 67,
   "id": "259b83a9-e219-4ded-9d84-6e5d42babcea",
   "metadata": {},
   "outputs": [],
   "source": [
    "l = df_matches[df_matches.win_by_wickets>0].groupby(\"winner\")"
   ]
  },
  {
   "cell_type": "code",
   "execution_count": 68,
   "id": "ff7f71ff-5310-456b-87f8-ebff9323c75c",
   "metadata": {},
   "outputs": [
    {
     "name": "stdout",
     "output_type": "stream",
     "text": [
      "winner Chennai Super Kings\n",
      "runs 6.0\n",
      "winner Deccan Chargers\n",
      "runs 6.0\n",
      "winner Delhi Daredevils\n",
      "runs 6.0\n",
      "winner Gujarat Lions\n",
      "runs 6.0\n",
      "winner Kings XI Punjab\n",
      "runs 6.0\n",
      "winner Kochi Tuskers Kerala\n",
      "runs 7.5\n",
      "winner Kolkata Knight Riders\n",
      "runs 7.0\n",
      "winner Mumbai Indians\n",
      "runs 6.0\n",
      "winner Pune Warriors\n",
      "runs 6.5\n",
      "winner Rajasthan Royals\n",
      "runs 6.0\n",
      "winner Rising Pune Supergiant\n",
      "runs 6.0\n",
      "winner Rising Pune Supergiants\n",
      "runs 7.0\n",
      "winner Royal Challengers Bangalore\n",
      "runs 7.0\n",
      "winner Sunrisers Hyderabad\n",
      "runs 7.0\n"
     ]
    }
   ],
   "source": [
    "for i,k in l:\n",
    "    print(\"winner\", i)\n",
    "    print(\"runs\", k.win_by_wickets.median())"
   ]
  },
  {
   "cell_type": "code",
   "execution_count": null,
   "id": "e289cc31-8c48-4d6a-b7f9-0fa294a28051",
   "metadata": {},
   "outputs": [],
   "source": []
  }
 ],
 "metadata": {
  "kernelspec": {
   "display_name": "Python 3 (ipykernel)",
   "language": "python",
   "name": "python3"
  },
  "language_info": {
   "codemirror_mode": {
    "name": "ipython",
    "version": 3
   },
   "file_extension": ".py",
   "mimetype": "text/x-python",
   "name": "python",
   "nbconvert_exporter": "python",
   "pygments_lexer": "ipython3",
   "version": "3.8.10"
  }
 },
 "nbformat": 4,
 "nbformat_minor": 5
}
